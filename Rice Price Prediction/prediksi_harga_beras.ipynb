{
 "cells": [
  {
   "cell_type": "code",
   "execution_count": 51,
   "id": "eee82695",
   "metadata": {},
   "outputs": [],
   "source": [
    "import pandas as pd\n",
    "import numpy as np\n",
    "import matplotlib.pyplot as plt\n",
    "import seaborn as sns \n",
    "from sklearn.linear_model import LinearRegression\n",
    "from sklearn.preprocessing import LabelEncoder\n",
    "from sklearn.model_selection import train_test_split\n",
    "from sklearn.metrics import mean_squared_error\n",
    "from sklearn.metrics import mean_absolute_error"
   ]
  },
  {
   "cell_type": "code",
   "execution_count": 275,
   "id": "5653e4ec",
   "metadata": {},
   "outputs": [
    {
     "data": {
      "text/html": [
       "<div>\n",
       "<style scoped>\n",
       "    .dataframe tbody tr th:only-of-type {\n",
       "        vertical-align: middle;\n",
       "    }\n",
       "\n",
       "    .dataframe tbody tr th {\n",
       "        vertical-align: top;\n",
       "    }\n",
       "\n",
       "    .dataframe thead th {\n",
       "        text-align: right;\n",
       "    }\n",
       "</style>\n",
       "<table border=\"1\" class=\"dataframe\">\n",
       "  <thead>\n",
       "    <tr style=\"text-align: right;\">\n",
       "      <th></th>\n",
       "      <th>No</th>\n",
       "      <th>Hari</th>\n",
       "      <th>Hama</th>\n",
       "      <th>Curah Hujan</th>\n",
       "      <th>Pupuk</th>\n",
       "      <th>Hasil Panen</th>\n",
       "      <th>Harga</th>\n",
       "    </tr>\n",
       "  </thead>\n",
       "  <tbody>\n",
       "    <tr>\n",
       "      <th>0</th>\n",
       "      <td>1</td>\n",
       "      <td>1</td>\n",
       "      <td>40</td>\n",
       "      <td>65</td>\n",
       "      <td>70</td>\n",
       "      <td>75</td>\n",
       "      <td>11000</td>\n",
       "    </tr>\n",
       "    <tr>\n",
       "      <th>1</th>\n",
       "      <td>2</td>\n",
       "      <td>2</td>\n",
       "      <td>40</td>\n",
       "      <td>65</td>\n",
       "      <td>70</td>\n",
       "      <td>75</td>\n",
       "      <td>11000</td>\n",
       "    </tr>\n",
       "    <tr>\n",
       "      <th>2</th>\n",
       "      <td>3</td>\n",
       "      <td>3</td>\n",
       "      <td>40</td>\n",
       "      <td>65</td>\n",
       "      <td>70</td>\n",
       "      <td>75</td>\n",
       "      <td>11000</td>\n",
       "    </tr>\n",
       "    <tr>\n",
       "      <th>3</th>\n",
       "      <td>4</td>\n",
       "      <td>4</td>\n",
       "      <td>40</td>\n",
       "      <td>65</td>\n",
       "      <td>70</td>\n",
       "      <td>75</td>\n",
       "      <td>11000</td>\n",
       "    </tr>\n",
       "    <tr>\n",
       "      <th>4</th>\n",
       "      <td>5</td>\n",
       "      <td>5</td>\n",
       "      <td>40</td>\n",
       "      <td>65</td>\n",
       "      <td>70</td>\n",
       "      <td>75</td>\n",
       "      <td>11000</td>\n",
       "    </tr>\n",
       "  </tbody>\n",
       "</table>\n",
       "</div>"
      ],
      "text/plain": [
       "   No  Hari  Hama  Curah Hujan  Pupuk  Hasil Panen  Harga\n",
       "0   1     1    40           65     70           75  11000\n",
       "1   2     2    40           65     70           75  11000\n",
       "2   3     3    40           65     70           75  11000\n",
       "3   4     4    40           65     70           75  11000\n",
       "4   5     5    40           65     70           75  11000"
      ]
     },
     "execution_count": 275,
     "metadata": {},
     "output_type": "execute_result"
    }
   ],
   "source": [
    "data = pd.read_excel('Data set Dinda.xlsx')\n",
    "data.head()"
   ]
  },
  {
   "cell_type": "code",
   "execution_count": 276,
   "id": "74596202",
   "metadata": {},
   "outputs": [],
   "source": [
    "column = ['Hama','Curah Hujan','Pupuk','Hasil Panen','Harga']\n",
    "data = data[column]"
   ]
  },
  {
   "cell_type": "code",
   "execution_count": 71,
   "id": "cf82c5b7",
   "metadata": {},
   "outputs": [
    {
     "data": {
      "text/plain": [
       "Hama           0\n",
       "Curah Hujan    0\n",
       "Pupuk          0\n",
       "Hasil Panen    0\n",
       "Harga          0\n",
       "dtype: int64"
      ]
     },
     "execution_count": 71,
     "metadata": {},
     "output_type": "execute_result"
    }
   ],
   "source": [
    "data.isnull().sum().sort_values(ascending=False)"
   ]
  },
  {
   "cell_type": "code",
   "execution_count": 181,
   "id": "f55e7540",
   "metadata": {},
   "outputs": [
    {
     "data": {
      "image/png": "[encoded data removed]",
      "text/plain": [
       "<Figure size 432x288 with 6 Axes>"
      ]
     },
     "metadata": {
      "needs_background": "light"
     },
     "output_type": "display_data"
    }
   ],
   "source": [
    "fig, axs = plt.subplots(3, 2)\n",
    "\n",
    "# Plot the boxplot for the first data using seaborn in the first subplot (index 0)\n",
    "sns.boxplot(data=data,x='Hama', ax=axs[0,0])\n",
    "sns.boxplot(data=data,x='Curah Hujan', ax=axs[0,1])\n",
    "sns.boxplot(data=data,x='Pupuk', ax=axs[1,0])\n",
    "sns.boxplot(data=data,x='Hasil Panen', ax=axs[1,1])\n",
    "sns.boxplot(data=data,x='Harga', ax=axs[2,0])\n",
    "axs[2, 1].axis('off')\n",
    "\n",
    "# Show the plots\n",
    "plt.tight_layout()\n",
    "plt.show()"
   ]
  },
  {
   "cell_type": "code",
   "execution_count": 301,
   "id": "f8f8bd26",
   "metadata": {},
   "outputs": [],
   "source": [
    "q1 = data['Hama'].quantile(0.25)\n",
    "q3 = data['Hama'].quantile(0.75)\n",
    "iqr = q3 - q1\n",
    "lower_bound = q1 - 1.5 * iqr\n",
    "data = data[(data['Hama'] >= lower_bound) ]"
   ]
  },
  {
   "cell_type": "code",
   "execution_count": 182,
   "id": "603621cc",
   "metadata": {},
   "outputs": [],
   "source": [
    "q1_Hama = data['Hama'].quantile(0.25)\n",
    "q3_Hama = data['Hama'].quantile(0.75)\n",
    "iqr = q3_Hama - q1_Hama\n",
    "lower_bound = q1_Hama - 1.5 * iqr\n",
    "median = data['Hama'].median()\n",
    "data['Hama'] = data['Hama'].apply(lambda x: median if x < lower_bound else x)"
   ]
  },
  {
   "cell_type": "code",
   "execution_count": 183,
   "id": "66abbe33",
   "metadata": {},
   "outputs": [],
   "source": [
    "q1_panen = data['Hasil Panen'].quantile(0.25)\n",
    "q3_panen = data['Hasil Panen'].quantile(0.75)\n",
    "iqr_panen = q3_panen - q1_panen\n",
    "lower_bound_panen = q1_panen - 1.5 * iqr_panen\n",
    "median = data['Hasil Panen'].median()\n",
    "data['Hasil Panen'] = data['Hasil Panen'].apply(lambda x: median if x < lower_bound_panen else x)"
   ]
  },
  {
   "cell_type": "code",
   "execution_count": 246,
   "id": "50becb9d",
   "metadata": {},
   "outputs": [
    {
     "data": {
      "image/png": "[encoded data removed]",
      "text/plain": [
       "<Figure size 432x288 with 6 Axes>"
      ]
     },
     "metadata": {
      "needs_background": "light"
     },
     "output_type": "display_data"
    }
   ],
   "source": [
    "fig, axs = plt.subplots(3, 2)\n",
    "\n",
    "# Plot the boxplot for the first data using seaborn in the first subplot (index 0)\n",
    "sns.boxplot(data=data,x='Hama', ax=axs[0,0])\n",
    "sns.boxplot(data=data,x='Curah Hujan', ax=axs[0,1])\n",
    "sns.boxplot(data=data,x='Pupuk', ax=axs[1,0])\n",
    "sns.boxplot(data=data,x='Hasil Panen', ax=axs[1,1])\n",
    "sns.boxplot(data=data,x='Harga', ax=axs[2,0])\n",
    "axs[2, 1].axis('off')\n",
    "\n",
    "# Show the plots\n",
    "plt.tight_layout()\n",
    "plt.show()"
   ]
  },
  {
   "cell_type": "code",
   "execution_count": 314,
   "id": "6b1b7447",
   "metadata": {},
   "outputs": [
    {
     "data": {
      "image/png": "[encoded data removed]",
      "text/plain": [
       "<Figure size 432x288 with 1 Axes>"
      ]
     },
     "metadata": {
      "needs_background": "light"
     },
     "output_type": "display_data"
    }
   ],
   "source": [
    "plt.scatter(x=data['Hama'],y=data['Harga'])\n",
    "plt.show()"
   ]
  },
  {
   "cell_type": "code",
   "execution_count": 302,
   "id": "935e986f",
   "metadata": {},
   "outputs": [],
   "source": [
    "X = np.array(data[['Hama', 'Curah Hujan', 'Pupuk', 'Hasil Panen']])\n",
    "y = np.array(data['Harga'])"
   ]
  },
  {
   "cell_type": "code",
   "execution_count": 278,
   "id": "79da3457",
   "metadata": {},
   "outputs": [
    {
     "data": {
      "text/plain": [
       "array([[40, 65, 70, 75],\n",
       "       [40, 65, 70, 75],\n",
       "       [40, 65, 70, 75],\n",
       "       ...,\n",
       "       [ 0, 50, 90, 50],\n",
       "       [ 0, 50, 90, 50],\n",
       "       [ 0, 50, 90, 50]], dtype=int64)"
      ]
     },
     "execution_count": 278,
     "metadata": {},
     "output_type": "execute_result"
    }
   ],
   "source": [
    "X"
   ]
  },
  {
   "cell_type": "code",
   "execution_count": 152,
   "id": "19085867",
   "metadata": {},
   "outputs": [
    {
     "data": {
      "text/plain": [
       "array([11000, 11000, 11000, 11000, 11000, 11000, 11000, 11000, 11000,\n",
       "       11000, 11000, 11000, 11000, 11000, 11000, 11000, 11000, 11000,\n",
       "       11000, 11000, 11000, 11000, 11000, 11000, 11000, 11000, 11000,\n",
       "       11000, 11000, 11000, 11000, 11000, 11000, 11000, 11000, 11000,\n",
       "       11000, 11000, 11000, 11000, 11000, 10500, 10500, 10500, 10500,\n",
       "       10500, 10500, 10500, 10500, 10500, 10500, 10500, 10500, 10500,\n",
       "       10500, 10500, 10500, 10500, 10500, 10500, 10500, 10500, 10500,\n",
       "       10500, 10500, 10500, 10500, 10500, 10000, 10000, 10000, 10000,\n",
       "       10000, 10000, 10000, 10000, 10000, 10000, 10000, 10000, 10000,\n",
       "       10000, 10000, 10000, 10000, 10000, 10000, 10000, 10000, 10000,\n",
       "       10000, 10000, 10000, 10000, 10000, 10000, 10000, 10500, 10500,\n",
       "       10500, 10500, 10500, 10500, 10500, 10500, 10500, 10500, 10500,\n",
       "       10500, 10500, 10500, 10500, 10500, 10500, 10500, 10500, 10500,\n",
       "       10500, 10500, 10500, 11000, 11000, 11000, 11000, 11000, 11000,\n",
       "       11000, 11000, 11000, 11000, 11000, 10500, 10500, 10500, 10500,\n",
       "       10500, 10500, 10500, 10500, 10500, 10500, 10500, 10500, 10500,\n",
       "       10500, 10500, 10500, 10500, 10500, 10500, 10500, 10500, 10500,\n",
       "       10500, 10500, 10500, 10000, 10000, 10000, 10000, 10000, 10000,\n",
       "       10000, 10000, 10000, 10000, 10000, 10000, 10000, 10000, 10000,\n",
       "       10000, 10000, 10000, 10000, 10000, 10000, 10000, 10000, 10000,\n",
       "       10000, 10000, 10000, 10000, 10000, 10000, 10000, 10000, 10000,\n",
       "       10000, 10000, 10000, 10000, 10000, 10000, 10000, 10000, 10000,\n",
       "       10000, 10000, 10000, 10000, 10000, 10000, 10000, 10000, 10000,\n",
       "       10000, 10000, 10000, 10000, 10000, 10000, 10000, 10000, 10000,\n",
       "       10000, 10000, 10000, 10000, 10000, 10000, 10000, 10000, 10000,\n",
       "       10000, 10000, 10000, 10000, 10000, 10000, 10000, 10500, 10500,\n",
       "       10500, 10500, 10500, 10500, 10500, 10500, 10500, 10500, 10500,\n",
       "       10500, 10500, 10500, 10500, 10500, 10500, 10500, 10500, 10500,\n",
       "       10500, 10500, 10500, 10500, 11000, 11000, 11000, 11000, 11000,\n",
       "       11000, 11000, 11000, 11000, 11000, 11000, 11000, 11000, 11000,\n",
       "       11000, 11000, 11000, 11000, 11000, 11000, 11000, 11000, 11000,\n",
       "       11000, 11000, 11000, 11000, 11000, 11000, 11000, 11000, 11000,\n",
       "       11000, 11000, 11000, 11000, 11000, 11000, 11000, 11000, 11000,\n",
       "       11000, 11000, 11000, 11000, 11000, 11000, 11000, 11000, 11000,\n",
       "       11000, 11000, 11000, 11000, 11000, 11000, 11000, 11000, 11000,\n",
       "       11500, 11500, 11500, 11500, 11500, 11500, 11500, 11500, 11500,\n",
       "       11500, 11500, 11500, 11500, 11500, 11500, 11500, 11500],\n",
       "      dtype=int64)"
      ]
     },
     "execution_count": 152,
     "metadata": {},
     "output_type": "execute_result"
    }
   ],
   "source": [
    "y"
   ]
  },
  {
   "cell_type": "code",
   "execution_count": 197,
   "id": "129b9eba",
   "metadata": {},
   "outputs": [],
   "source": [
    "from sklearn.preprocessing import StandardScaler\n",
    "scaler = StandardScaler()\n",
    "x_standardized = scaler.fit_transform(X)"
   ]
  },
  {
   "cell_type": "code",
   "execution_count": 388,
   "id": "1cf2f62c",
   "metadata": {},
   "outputs": [
    {
     "name": "stdout",
     "output_type": "stream",
     "text": [
      "(265, 4)\n",
      "(265,)\n"
     ]
    }
   ],
   "source": [
    "X_train, X_test, y_train, y_test = train_test_split(X, y, test_size=0.2, random_state=50)\n",
    "\n",
    "print(X_train.shape)\n",
    "print(y_train.shape)"
   ]
  },
  {
   "cell_type": "code",
   "execution_count": 203,
   "id": "da196220",
   "metadata": {},
   "outputs": [
    {
     "data": {
      "text/plain": [
       "array([[ 0.15271994,  0.08400723, -0.27306703, -0.0503019 ],\n",
       "       [ 1.23074304,  1.26999166, -1.1790959 ,  1.34267376],\n",
       "       [-0.92530316, -0.50898498,  0.63296184, -0.74678973],\n",
       "       [-0.92530316, -0.50898498,  0.63296184, -0.74678973],\n",
       "       [-0.92530316, -0.50898498,  0.63296184, -0.74678973],\n",
       "       [-0.92530316, -0.50898498,  0.63296184, -0.74678973],\n",
       "       [ 0.15271994,  0.08400723, -0.27306703, -0.0503019 ],\n",
       "       [ 1.23074304,  1.26999166, -1.1790959 ,  1.34267376],\n",
       "       [-0.92530316, -0.50898498,  0.63296184, -0.74678973],\n",
       "       [-0.92530316, -0.50898498,  0.63296184, -0.74678973],\n",
       "       [ 0.15271994, -2.28796162,  2.44501958, -0.0503019 ],\n",
       "       [-0.92530316, -0.50898498,  0.63296184, -0.74678973],\n",
       "       [ 1.23074304,  1.26999166, -1.1790959 ,  1.34267376],\n",
       "       [ 0.15271994,  0.08400723, -0.27306703, -0.0503019 ],\n",
       "       [ 1.23074304,  1.26999166, -1.1790959 ,  1.34267376],\n",
       "       [ 1.23074304,  1.26999166, -1.1790959 ,  1.34267376],\n",
       "       [ 0.15271994,  0.08400723, -0.27306703, -0.0503019 ],\n",
       "       [ 0.15271994, -2.28796162,  2.44501958, -0.0503019 ],\n",
       "       [ 0.15271994,  0.08400723, -0.27306703, -0.0503019 ],\n",
       "       [ 1.23074304,  1.26999166, -1.1790959 ,  1.34267376],\n",
       "       [ 0.15271994,  0.08400723, -0.27306703, -0.0503019 ],\n",
       "       [ 0.15271994,  0.08400723, -0.27306703, -0.0503019 ],\n",
       "       [-0.92530316, -0.50898498,  0.63296184, -0.74678973],\n",
       "       [-2.00332626, -1.1019772 ,  1.08597627, -1.44327756],\n",
       "       [ 1.23074304,  1.26999166, -1.1790959 ,  1.34267376],\n",
       "       [ 0.15271994,  0.08400723, -0.27306703, -0.0503019 ],\n",
       "       [ 0.15271994, -2.28796162,  2.44501958, -0.0503019 ],\n",
       "       [-0.92530316, -0.50898498,  0.63296184, -0.74678973],\n",
       "       [ 0.15271994, -1.69496941,  1.53899071, -2.83625322],\n",
       "       [-0.92530316, -0.50898498,  0.63296184, -0.74678973],\n",
       "       [-0.92530316, -0.50898498,  0.63296184, -0.74678973],\n",
       "       [ 0.15271994,  0.08400723, -0.27306703, -0.0503019 ],\n",
       "       [-0.92530316, -0.50898498,  0.63296184, -0.74678973],\n",
       "       [-2.00332626, -1.1019772 ,  1.08597627, -1.44327756],\n",
       "       [-0.92530316, -0.50898498,  0.63296184, -0.74678973],\n",
       "       [ 1.23074304,  1.26999166, -1.1790959 ,  1.34267376],\n",
       "       [ 0.15271994, -2.28796162,  2.44501958, -0.0503019 ],\n",
       "       [ 1.23074304,  1.26999166, -1.1790959 ,  1.34267376],\n",
       "       [ 1.23074304,  1.26999166, -1.1790959 ,  1.34267376],\n",
       "       [ 0.15271994,  0.08400723, -0.27306703, -0.0503019 ],\n",
       "       [ 1.23074304,  1.26999166, -1.1790959 ,  1.34267376],\n",
       "       [ 0.15271994,  0.08400723, -0.27306703, -0.0503019 ],\n",
       "       [ 0.15271994,  0.08400723, -0.27306703, -0.0503019 ],\n",
       "       [ 0.15271994,  0.08400723, -0.27306703, -0.0503019 ],\n",
       "       [-0.92530316, -0.50898498,  0.63296184, -0.74678973],\n",
       "       [ 1.23074304,  1.26999166, -1.1790959 ,  1.34267376],\n",
       "       [ 0.15271994, -2.28796162,  2.44501958, -0.0503019 ],\n",
       "       [-0.92530316, -0.50898498,  0.63296184, -0.74678973],\n",
       "       [ 1.23074304,  1.26999166, -1.1790959 ,  1.34267376],\n",
       "       [ 0.15271994,  0.08400723, -0.27306703, -0.0503019 ],\n",
       "       [ 1.23074304,  1.26999166, -1.1790959 ,  1.34267376],\n",
       "       [-2.00332626, -1.1019772 ,  0.63296184, -1.44327756],\n",
       "       [ 1.23074304,  1.26999166, -1.1790959 ,  1.34267376],\n",
       "       [ 0.15271994,  0.08400723, -0.27306703, -0.0503019 ],\n",
       "       [ 1.23074304,  1.26999166, -1.1790959 ,  1.34267376],\n",
       "       [-2.00332626, -1.1019772 ,  1.08597627, -1.44327756],\n",
       "       [ 1.23074304,  1.26999166, -1.1790959 ,  1.34267376],\n",
       "       [-0.92530316, -0.50898498,  0.63296184, -0.74678973],\n",
       "       [ 0.15271994, -2.28796162,  2.44501958, -0.0503019 ],\n",
       "       [ 1.23074304,  1.26999166, -1.1790959 ,  1.34267376],\n",
       "       [ 1.23074304,  1.26999166, -1.1790959 ,  1.34267376],\n",
       "       [ 1.23074304,  1.26999166, -1.1790959 ,  1.34267376],\n",
       "       [ 1.23074304,  1.26999166, -1.1790959 ,  1.34267376],\n",
       "       [-0.92530316, -0.50898498,  0.63296184, -0.74678973],\n",
       "       [ 0.15271994, -2.28796162,  2.44501958, -0.0503019 ],\n",
       "       [ 0.15271994, -2.28796162,  2.44501958, -0.0503019 ],\n",
       "       [ 1.23074304,  1.26999166, -1.1790959 ,  1.34267376],\n",
       "       [-0.92530316, -0.50898498,  0.63296184, -0.74678973],\n",
       "       [ 1.23074304,  1.26999166, -1.1790959 ,  1.34267376],\n",
       "       [ 1.23074304,  1.26999166, -1.1790959 ,  1.34267376],\n",
       "       [ 1.23074304,  1.26999166, -1.1790959 ,  1.34267376],\n",
       "       [ 0.15271994, -2.28796162,  2.44501958, -0.0503019 ],\n",
       "       [ 0.15271994,  0.08400723, -0.27306703, -0.0503019 ],\n",
       "       [-0.92530316, -0.50898498,  0.63296184, -0.74678973],\n",
       "       [ 1.23074304,  1.26999166, -1.1790959 ,  1.34267376],\n",
       "       [ 0.15271994, -1.69496941,  1.53899071, -2.83625322],\n",
       "       [ 0.15271994,  0.08400723, -0.27306703, -0.0503019 ],\n",
       "       [ 0.15271994,  0.08400723, -0.27306703, -0.0503019 ],\n",
       "       [ 1.23074304,  1.26999166, -1.1790959 ,  1.34267376],\n",
       "       [ 0.15271994,  0.08400723, -0.27306703, -0.0503019 ],\n",
       "       [-0.92530316, -0.50898498,  0.63296184, -0.74678973],\n",
       "       [ 1.23074304,  1.26999166, -1.1790959 ,  1.34267376],\n",
       "       [ 1.23074304,  1.26999166, -1.1790959 ,  1.34267376],\n",
       "       [ 0.15271994,  0.08400723, -0.27306703, -0.0503019 ],\n",
       "       [ 0.15271994, -2.28796162,  2.44501958, -0.0503019 ],\n",
       "       [ 0.15271994,  0.08400723, -0.27306703, -0.0503019 ],\n",
       "       [ 0.15271994,  0.08400723, -0.27306703, -0.0503019 ],\n",
       "       [ 0.15271994, -2.28796162,  2.44501958, -0.0503019 ],\n",
       "       [-0.92530316, -0.50898498,  0.63296184, -0.74678973],\n",
       "       [ 1.23074304,  1.26999166, -1.1790959 ,  1.34267376],\n",
       "       [ 0.15271994,  0.08400723, -0.27306703, -0.0503019 ],\n",
       "       [ 0.15271994,  0.08400723, -0.27306703, -0.0503019 ],\n",
       "       [ 0.15271994,  0.08400723, -0.27306703, -0.0503019 ],\n",
       "       [-2.00332626, -1.1019772 ,  1.08597627, -1.44327756],\n",
       "       [ 1.23074304,  1.26999166, -1.1790959 ,  1.34267376],\n",
       "       [ 0.15271994,  0.08400723, -0.27306703, -0.0503019 ],\n",
       "       [ 1.23074304,  1.26999166, -1.1790959 ,  1.34267376],\n",
       "       [-0.92530316, -0.50898498,  0.63296184, -0.74678973],\n",
       "       [ 0.15271994,  0.08400723, -0.27306703, -0.0503019 ],\n",
       "       [ 0.15271994, -1.69496941,  1.53899071, -2.83625322],\n",
       "       [-0.92530316, -0.50898498,  0.63296184, -0.74678973],\n",
       "       [ 0.15271994,  0.08400723, -0.27306703, -0.0503019 ],\n",
       "       [-0.92530316, -0.50898498,  0.63296184, -0.74678973],\n",
       "       [ 0.15271994,  0.08400723, -0.27306703, -0.0503019 ],\n",
       "       [-0.92530316, -0.50898498,  0.63296184, -0.74678973],\n",
       "       [-0.92530316, -0.50898498,  0.63296184, -0.74678973],\n",
       "       [ 0.15271994, -2.28796162,  2.44501958, -0.0503019 ],\n",
       "       [-2.00332626, -1.1019772 ,  0.63296184, -1.44327756],\n",
       "       [-0.92530316, -0.50898498,  0.63296184, -0.74678973],\n",
       "       [-0.92530316, -0.50898498,  0.63296184, -0.74678973],\n",
       "       [ 1.23074304,  1.26999166, -1.1790959 ,  1.34267376],\n",
       "       [ 1.23074304,  1.26999166, -1.1790959 ,  1.34267376],\n",
       "       [ 1.23074304,  1.26999166, -1.1790959 ,  1.34267376],\n",
       "       [ 0.15271994, -1.69496941,  1.53899071, -2.83625322],\n",
       "       [-0.92530316, -0.50898498,  0.63296184, -0.74678973],\n",
       "       [ 0.15271994, -2.28796162,  2.44501958, -0.0503019 ],\n",
       "       [-0.92530316, -0.50898498,  0.63296184, -0.74678973],\n",
       "       [-0.92530316, -0.50898498,  0.63296184, -0.74678973],\n",
       "       [-0.92530316, -0.50898498,  0.63296184, -0.74678973],\n",
       "       [ 1.23074304,  1.26999166, -1.1790959 ,  1.34267376],\n",
       "       [-2.00332626, -1.1019772 ,  1.08597627, -1.44327756],\n",
       "       [ 1.23074304,  1.26999166, -1.1790959 ,  1.34267376],\n",
       "       [ 0.15271994,  0.08400723, -0.27306703, -0.0503019 ],\n",
       "       [-0.92530316, -0.50898498,  0.63296184, -0.74678973],\n",
       "       [-0.92530316, -0.50898498,  0.63296184, -0.74678973],\n",
       "       [ 0.15271994,  0.08400723, -0.27306703, -0.0503019 ],\n",
       "       [-0.92530316, -0.50898498,  0.63296184, -0.74678973],\n",
       "       [ 1.23074304,  1.26999166, -1.1790959 ,  1.34267376],\n",
       "       [-0.92530316, -0.50898498,  0.63296184, -0.74678973],\n",
       "       [-0.92530316, -0.50898498,  0.63296184, -0.74678973],\n",
       "       [ 0.15271994, -2.28796162,  2.44501958, -0.0503019 ],\n",
       "       [ 0.15271994,  0.08400723, -0.27306703, -0.0503019 ],\n",
       "       [ 0.15271994,  0.08400723, -0.27306703, -0.0503019 ],\n",
       "       [-0.92530316, -0.50898498,  0.63296184, -0.74678973],\n",
       "       [ 0.15271994,  0.08400723, -0.27306703, -0.0503019 ],\n",
       "       [ 0.15271994,  0.08400723, -0.27306703, -0.0503019 ],\n",
       "       [ 1.23074304,  1.26999166, -1.1790959 ,  1.34267376],\n",
       "       [-0.92530316, -0.50898498,  0.63296184, -0.74678973],\n",
       "       [-0.92530316, -0.50898498,  0.63296184, -0.74678973],\n",
       "       [-0.92530316, -0.50898498,  0.63296184, -0.74678973],\n",
       "       [-2.00332626, -1.1019772 ,  0.63296184, -1.44327756],\n",
       "       [ 1.23074304,  1.26999166, -1.1790959 ,  1.34267376],\n",
       "       [ 0.15271994,  0.08400723, -0.27306703, -0.0503019 ],\n",
       "       [-0.92530316, -0.50898498,  0.63296184, -0.74678973],\n",
       "       [-2.00332626, -1.1019772 ,  0.63296184, -1.44327756],\n",
       "       [ 1.23074304,  1.26999166, -1.1790959 ,  1.34267376],\n",
       "       [-0.92530316, -0.50898498,  0.63296184, -0.74678973],\n",
       "       [ 0.15271994,  0.08400723, -0.27306703, -0.0503019 ],\n",
       "       [-0.92530316, -0.50898498,  0.63296184, -0.74678973],\n",
       "       [ 1.23074304,  1.26999166, -1.1790959 ,  1.34267376],\n",
       "       [-0.92530316, -0.50898498,  0.63296184, -0.74678973],\n",
       "       [ 0.15271994,  0.08400723, -0.27306703, -0.0503019 ],\n",
       "       [ 1.23074304,  1.26999166, -1.1790959 ,  1.34267376],\n",
       "       [-0.92530316, -0.50898498,  0.63296184, -0.74678973],\n",
       "       [ 1.23074304,  1.26999166, -1.1790959 ,  1.34267376],\n",
       "       [-2.00332626, -1.1019772 ,  1.08597627, -1.44327756],\n",
       "       [ 1.23074304,  1.26999166, -1.1790959 ,  1.34267376],\n",
       "       [ 0.15271994, -2.28796162,  2.44501958, -0.0503019 ],\n",
       "       [ 1.23074304,  1.26999166, -1.1790959 ,  1.34267376],\n",
       "       [ 1.23074304,  1.26999166, -1.1790959 ,  1.34267376],\n",
       "       [ 0.15271994,  0.08400723, -0.27306703, -0.0503019 ],\n",
       "       [ 1.23074304,  1.26999166, -1.1790959 ,  1.34267376],\n",
       "       [-0.92530316, -0.50898498,  0.63296184, -0.74678973],\n",
       "       [ 1.23074304,  1.26999166, -1.1790959 ,  1.34267376],\n",
       "       [ 0.15271994,  0.08400723, -0.27306703, -0.0503019 ],\n",
       "       [ 0.15271994,  0.08400723, -0.27306703, -0.0503019 ],\n",
       "       [ 1.23074304,  1.26999166, -1.1790959 ,  1.34267376],\n",
       "       [ 0.15271994,  0.08400723, -0.27306703, -0.0503019 ],\n",
       "       [-2.00332626, -1.1019772 ,  1.08597627, -1.44327756],\n",
       "       [ 0.15271994, -2.28796162,  2.44501958, -0.0503019 ],\n",
       "       [-0.92530316, -0.50898498,  0.63296184, -0.74678973],\n",
       "       [ 1.23074304,  1.26999166, -1.1790959 ,  1.34267376],\n",
       "       [ 1.23074304,  1.26999166, -1.1790959 ,  1.34267376],\n",
       "       [-2.00332626, -1.1019772 ,  0.63296184, -1.44327756],\n",
       "       [-0.92530316, -0.50898498,  0.63296184, -0.74678973],\n",
       "       [-2.00332626, -1.1019772 ,  1.08597627, -1.44327756],\n",
       "       [ 1.23074304,  1.26999166, -1.1790959 ,  1.34267376],\n",
       "       [ 1.23074304,  1.26999166, -1.1790959 ,  1.34267376],\n",
       "       [-0.92530316, -0.50898498,  0.63296184, -0.74678973],\n",
       "       [ 0.15271994,  0.08400723, -0.27306703, -0.0503019 ],\n",
       "       [-0.92530316, -0.50898498,  0.63296184, -0.74678973],\n",
       "       [ 0.15271994,  0.08400723, -0.27306703, -0.0503019 ],\n",
       "       [-0.92530316, -0.50898498,  0.63296184, -0.74678973],\n",
       "       [-2.00332626, -1.1019772 ,  1.08597627, -1.44327756],\n",
       "       [ 0.15271994,  0.08400723, -0.27306703, -0.0503019 ],\n",
       "       [ 0.15271994,  0.08400723, -0.27306703, -0.0503019 ],\n",
       "       [-0.92530316, -0.50898498,  0.63296184, -0.74678973],\n",
       "       [-2.00332626, -1.1019772 ,  1.08597627, -1.44327756],\n",
       "       [-0.92530316, -0.50898498,  0.63296184, -0.74678973],\n",
       "       [ 0.15271994,  0.08400723, -0.27306703, -0.0503019 ],\n",
       "       [-0.92530316, -0.50898498,  0.63296184, -0.74678973],\n",
       "       [-2.00332626, -1.1019772 ,  0.63296184, -1.44327756],\n",
       "       [-0.92530316, -0.50898498,  0.63296184, -0.74678973],\n",
       "       [-0.92530316, -0.50898498,  0.63296184, -0.74678973],\n",
       "       [ 1.23074304,  1.26999166, -1.1790959 ,  1.34267376],\n",
       "       [ 1.23074304,  1.26999166, -1.1790959 ,  1.34267376],\n",
       "       [ 0.15271994,  0.08400723, -0.27306703, -0.0503019 ],\n",
       "       [ 0.15271994,  0.08400723, -0.27306703, -0.0503019 ],\n",
       "       [ 1.23074304,  1.26999166, -1.1790959 ,  1.34267376],\n",
       "       [-0.92530316, -0.50898498,  0.63296184, -0.74678973],\n",
       "       [-0.92530316, -0.50898498,  0.63296184, -0.74678973],\n",
       "       [-2.00332626, -1.1019772 ,  0.63296184, -1.44327756],\n",
       "       [ 1.23074304,  1.26999166, -1.1790959 ,  1.34267376],\n",
       "       [ 0.15271994, -1.69496941,  1.53899071, -2.83625322],\n",
       "       [-0.92530316, -0.50898498,  0.63296184, -0.74678973],\n",
       "       [-2.00332626, -1.1019772 ,  1.08597627, -1.44327756],\n",
       "       [ 0.15271994,  0.08400723, -0.27306703, -0.0503019 ],\n",
       "       [-0.92530316, -0.50898498,  0.63296184, -0.74678973],\n",
       "       [-2.00332626, -1.1019772 ,  1.08597627, -1.44327756],\n",
       "       [ 1.23074304,  1.26999166, -1.1790959 ,  1.34267376],\n",
       "       [ 0.15271994,  0.08400723, -0.27306703, -0.0503019 ],\n",
       "       [ 1.23074304,  1.26999166, -1.1790959 ,  1.34267376],\n",
       "       [ 0.15271994,  0.08400723, -0.27306703, -0.0503019 ],\n",
       "       [ 0.15271994,  0.08400723, -0.27306703, -0.0503019 ],\n",
       "       [-0.92530316, -0.50898498,  0.63296184, -0.74678973],\n",
       "       [ 1.23074304,  1.26999166, -1.1790959 ,  1.34267376],\n",
       "       [ 0.15271994, -1.69496941,  1.53899071, -2.83625322],\n",
       "       [-0.92530316, -0.50898498,  0.63296184, -0.74678973],\n",
       "       [ 1.23074304,  1.26999166, -1.1790959 ,  1.34267376],\n",
       "       [ 0.15271994, -1.69496941,  1.53899071, -2.83625322],\n",
       "       [ 0.15271994, -2.28796162,  2.44501958, -0.0503019 ],\n",
       "       [ 1.23074304,  1.26999166, -1.1790959 ,  1.34267376],\n",
       "       [ 0.15271994, -2.28796162,  2.44501958, -0.0503019 ],\n",
       "       [-0.92530316, -0.50898498,  0.63296184, -0.74678973],\n",
       "       [ 1.23074304,  1.26999166, -1.1790959 ,  1.34267376],\n",
       "       [-0.92530316, -0.50898498,  0.63296184, -0.74678973],\n",
       "       [ 1.23074304,  1.26999166, -1.1790959 ,  1.34267376],\n",
       "       [ 1.23074304,  1.26999166, -1.1790959 ,  1.34267376],\n",
       "       [ 1.23074304,  1.26999166, -1.1790959 ,  1.34267376],\n",
       "       [-0.92530316, -0.50898498,  0.63296184, -0.74678973],\n",
       "       [ 0.15271994,  0.08400723, -0.27306703, -0.0503019 ],\n",
       "       [-0.92530316, -0.50898498,  0.63296184, -0.74678973],\n",
       "       [ 1.23074304,  1.26999166, -1.1790959 ,  1.34267376],\n",
       "       [-0.92530316, -0.50898498,  0.63296184, -0.74678973],\n",
       "       [ 1.23074304,  1.26999166, -1.1790959 ,  1.34267376],\n",
       "       [ 0.15271994,  0.08400723, -0.27306703, -0.0503019 ],\n",
       "       [-2.00332626, -1.1019772 ,  1.08597627, -1.44327756],\n",
       "       [ 1.23074304,  1.26999166, -1.1790959 ,  1.34267376],\n",
       "       [ 0.15271994,  0.08400723, -0.27306703, -0.0503019 ],\n",
       "       [ 0.15271994,  0.08400723, -0.27306703, -0.0503019 ],\n",
       "       [ 1.23074304,  1.26999166, -1.1790959 ,  1.34267376]])"
      ]
     },
     "execution_count": 203,
     "metadata": {},
     "output_type": "execute_result"
    }
   ],
   "source": [
    "X_train"
   ]
  },
  {
   "cell_type": "code",
   "execution_count": 389,
   "id": "87aaea8f",
   "metadata": {},
   "outputs": [
    {
     "data": {
      "text/plain": [
       "0.9943251113785364"
      ]
     },
     "execution_count": 389,
     "metadata": {},
     "output_type": "execute_result"
    }
   ],
   "source": [
    "regr = LinearRegression()\n",
    "regr.fit(X_train,y_train)\n",
    "regr.score(X_test,y_test)"
   ]
  },
  {
   "cell_type": "code",
   "execution_count": 390,
   "id": "79bfddc9",
   "metadata": {},
   "outputs": [
    {
     "data": {
      "text/plain": [
       "910.2071301968757"
      ]
     },
     "execution_count": 390,
     "metadata": {},
     "output_type": "execute_result"
    }
   ],
   "source": [
    "y_pred = regr.predict(X_test)\n",
    "mean_squared_error(y_test, y_pred)"
   ]
  },
  {
   "cell_type": "code",
   "execution_count": 378,
   "id": "d4f78b8e",
   "metadata": {},
   "outputs": [
    {
     "data": {
      "text/plain": [
       "18.789650499759"
      ]
     },
     "execution_count": 378,
     "metadata": {},
     "output_type": "execute_result"
    }
   ],
   "source": [
    "mean_absolute_error(y_test, y_pred)"
   ]
  },
  {
   "cell_type": "code",
   "execution_count": 379,
   "id": "404f3195",
   "metadata": {},
   "outputs": [
    {
     "data": {
      "text/plain": [
       "array([11029.55179773, 11029.55179773, 10000.        , 11029.55179773,\n",
       "       10000.        , 10483.17189296, 11029.55179773, 10483.17189296,\n",
       "       10483.17189296, 10000.        , 10000.        , 10483.17189296,\n",
       "       10483.17189296, 10483.17189296, 11029.55179773, 10483.17189296,\n",
       "       10000.        , 10000.        , 11029.55179773, 11029.55179773,\n",
       "       11029.55179773, 10000.        , 10483.17189296, 10000.        ,\n",
       "       10483.17189296, 11029.55179773, 10483.17189296, 10000.        ,\n",
       "       11029.55179773, 10483.17189296, 11029.55179773, 10483.17189296,\n",
       "       10000.        , 10000.        , 11348.54703661, 10000.        ,\n",
       "       10483.17189296, 10000.        , 11029.55179773, 10483.17189296,\n",
       "       10000.        , 10000.        , 10483.17189296, 10000.        ,\n",
       "       10483.17189296, 11029.55179773, 11029.55179773, 11029.55179773,\n",
       "       11121.16237071, 10483.17189296, 11029.55179773, 10000.        ,\n",
       "       10000.        , 10483.17189296, 11029.55179773, 10483.17189296,\n",
       "       10483.17189296, 10483.17189296, 10483.17189296, 10483.17189296,\n",
       "       10000.        , 10483.17189296, 10483.17189296, 10483.17189296,\n",
       "       10000.        , 11029.55179773, 10483.17189296])"
      ]
     },
     "execution_count": 379,
     "metadata": {},
     "output_type": "execute_result"
    }
   ],
   "source": [
    "y_pred"
   ]
  },
  {
   "cell_type": "code",
   "execution_count": 380,
   "id": "e95a77b7",
   "metadata": {},
   "outputs": [
    {
     "data": {
      "text/plain": [
       "array([11000, 11000, 10000, 11000, 10000, 10500, 11000, 10500, 10500,\n",
       "       10000, 10000, 10500, 10500, 10500, 11000, 10500, 10000, 10000,\n",
       "       11000, 11000, 11000, 10000, 10500, 10000, 10500, 11000, 10500,\n",
       "       10000, 11000, 10500, 11000, 10500, 10000, 10000, 11500, 10000,\n",
       "       10500, 10000, 11000, 10500, 10000, 10000, 10500, 10000, 10500,\n",
       "       11000, 11000, 11000, 11000, 10500, 11000, 10000, 10000, 10500,\n",
       "       11000, 10500, 10500, 10500, 10500, 10500, 10000, 10500, 10500,\n",
       "       10500, 10000, 11000, 10500], dtype=int64)"
      ]
     },
     "execution_count": 380,
     "metadata": {},
     "output_type": "execute_result"
    }
   ],
   "source": [
    "y_test"
   ]
  },
  {
   "cell_type": "code",
   "execution_count": 148,
   "id": "3647f9fa",
   "metadata": {},
   "outputs": [
    {
     "data": {
      "text/plain": [
       "array([11028.22925577])"
      ]
     },
     "execution_count": 148,
     "metadata": {},
     "output_type": "execute_result"
    }
   ],
   "source": [
    "y_pred = regr.predict([[40, 65, 70, 75]])\n",
    "y_pred"
   ]
  },
  {
   "cell_type": "code",
   "execution_count": 145,
   "id": "a5d1c40a",
   "metadata": {},
   "outputs": [],
   "source": [
    "import pickle\n",
    "filename = 'Trialmodel.pkl'\n",
    "pickle.dump(regr, open(filename, 'wb'))"
   ]
  },
  {
   "cell_type": "code",
   "execution_count": null,
   "id": "97f7b7aa",
   "metadata": {},
   "outputs": [],
   "source": []
  }
 ],
 "metadata": {
  "kernelspec": {
   "display_name": "Python 3 (ipykernel)",
   "language": "python",
   "name": "python3"
  },
  "language_info": {
   "codemirror_mode": {
    "name": "ipython",
    "version": 3
   },
   "file_extension": ".py",
   "mimetype": "text/x-python",
   "name": "python",
   "nbconvert_exporter": "python",
   "pygments_lexer": "ipython3",
   "version": "3.9.7"
  }
 },
 "nbformat": 4,
 "nbformat_minor": 5
}
